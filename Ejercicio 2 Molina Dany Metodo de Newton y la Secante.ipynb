{
 "cells": [
  {
   "cell_type": "markdown",
   "id": "e330f077",
   "metadata": {},
   "source": [
    "<div style=\"text-align: center;\">\n",
    "\n",
    "## Escuela Politécnica Nacional\n",
    "\n",
    "</div>\n",
    "\n",
    "**Nombre:**  Dany Molina Isreal\n",
    "\n",
    "**Fecha:**  18/05/2025\n",
    "\n",
    "<div style=\"text-align: center;\">\n",
    "\n",
    "## Tarea 5 - Método de Newton y la Secante\n",
    "\n",
    "### Ejercicio 2\n",
    "\n",
    "</div>"
   ]
  },
  {
   "cell_type": "markdown",
   "id": "baf211e5",
   "metadata": {},
   "source": [
    "Encuentre soluciones precisas dentro de $10^{−4}$ para los siguientes problemas.\n",
    "\n",
    "**a.** $𝑥^3 − 2𝑥 − 5 = 0, \\quad [1,4 ]$ \n"
   ]
  },
  {
   "cell_type": "code",
   "execution_count": 1,
   "id": "040f0787",
   "metadata": {},
   "outputs": [
    {
     "name": "stdout",
     "output_type": "stream",
     "text": [
      "(a) Raíz ≈ 2.09451\n"
     ]
    }
   ],
   "source": [
    "import numpy as np\n",
    "\n",
    "def biseccion(f, a, b, tol=1e-4, max_iter=1000):\n",
    "    if f(a) * f(b) > 0:\n",
    "        raise ValueError(\"No hay cambio de signo en el intervalo: el método de bisección no es aplicable.\")\n",
    "    \n",
    "    iteraciones = 0\n",
    "    while (b - a) / 2 > tol and iteraciones < max_iter:\n",
    "        c = (a + b) / 2\n",
    "        if f(c) == 0:\n",
    "            return c\n",
    "        elif f(a) * f(c) < 0:\n",
    "            b = c\n",
    "        else:\n",
    "            a = c\n",
    "        iteraciones += 1\n",
    "\n",
    "    return (a + b) / 2\n",
    "def f_a(x):\n",
    "    return x**3 - 2*x - 5\n",
    "\n",
    "raiz_a = biseccion(f_a, 1, 4)\n",
    "print(f\"(a) Raíz ≈ {raiz_a:.5f}\")\n"
   ]
  },
  {
   "cell_type": "markdown",
   "id": "77e09a49",
   "metadata": {},
   "source": [
    "**b.** $𝑥^3 + 3𝑥^2 − 1 = 0, \\quad [−3, −2]$\n"
   ]
  },
  {
   "cell_type": "code",
   "execution_count": 2,
   "id": "40dfc41c",
   "metadata": {},
   "outputs": [
    {
     "name": "stdout",
     "output_type": "stream",
     "text": [
      "(b) Raíz ≈ -2.87933\n"
     ]
    }
   ],
   "source": [
    "def f_b(x):\n",
    "    return x**3 + 3*x**2 - 1\n",
    "\n",
    "raiz_b = biseccion(f_b, -3, -2)\n",
    "print(f\"(b) Raíz ≈ {raiz_b:.5f}\")\n"
   ]
  },
  {
   "cell_type": "markdown",
   "id": "f0974981",
   "metadata": {},
   "source": [
    "**c.** $𝑥 − cos 𝑥 = 0, \\quad [0,\\frac{𝜋}{2}]$\n"
   ]
  },
  {
   "cell_type": "code",
   "execution_count": 3,
   "id": "69d2adc2",
   "metadata": {},
   "outputs": [
    {
     "name": "stdout",
     "output_type": "stream",
     "text": [
      "(c) Raíz ≈ 0.73909\n"
     ]
    }
   ],
   "source": [
    "def f_c(x):\n",
    "    return x - np.cos(x)\n",
    "\n",
    "raiz_c = biseccion(f_c, 0, np.pi/2)\n",
    "print(f\"(c) Raíz ≈ {raiz_c:.5f}\")\n"
   ]
  },
  {
   "cell_type": "markdown",
   "id": "066b47ff",
   "metadata": {},
   "source": [
    "**d.** $𝑥 − 0.8 − 0.2, \\quad sen 𝑥 = 0, [0,\\frac {𝜋}{2}]$"
   ]
  },
  {
   "cell_type": "code",
   "execution_count": 4,
   "id": "ac34a418",
   "metadata": {},
   "outputs": [
    {
     "name": "stdout",
     "output_type": "stream",
     "text": [
      "(d) Raíz ≈ 0.96439\n"
     ]
    }
   ],
   "source": [
    "def f_d(x):\n",
    "    return x - 0.8 - 0.2*np.sin(x)\n",
    "\n",
    "raiz_d = biseccion(f_d, 0, np.pi/2)\n",
    "print(f\"(d) Raíz ≈ {raiz_d:.5f}\")\n"
   ]
  }
 ],
 "metadata": {
  "kernelspec": {
   "display_name": "Python 3",
   "language": "python",
   "name": "python3"
  },
  "language_info": {
   "codemirror_mode": {
    "name": "ipython",
    "version": 3
   },
   "file_extension": ".py",
   "mimetype": "text/x-python",
   "name": "python",
   "nbconvert_exporter": "python",
   "pygments_lexer": "ipython3",
   "version": "3.13.3"
  }
 },
 "nbformat": 4,
 "nbformat_minor": 5
}
