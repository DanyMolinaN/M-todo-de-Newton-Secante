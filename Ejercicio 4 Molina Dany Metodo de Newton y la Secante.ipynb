{
 "cells": [
  {
   "cell_type": "markdown",
   "id": "ed04bdca",
   "metadata": {},
   "source": [
    "<div style=\"text-align: center;\">\n",
    "\n",
    "## Escuela Politécnica Nacional\n",
    "\n",
    "</div>\n",
    "\n",
    "**Nombre:**  Dany Molina Israel\n",
    "\n",
    "**Fecha:**  18/05/2025\n",
    "\n",
    "<div style=\"text-align: center;\">\n",
    "\n",
    "## Tarea 5 - Método de Newton y la Secante\n",
    "\n",
    "### Ejercicio 4\n",
    "</div>"
   ]
  },
  {
   "cell_type": "markdown",
   "id": "930f6059",
   "metadata": {},
   "source": [
    "El polinomio de cuarto grado\n",
    "$$𝑓(𝑥) = 230𝑥^4 + 18𝑥^3 + 9𝑥^2 − 221𝑥 − 9$$\n",
    "\n",
    "tiene dos ceros reales, uno en $[−1,0]$ y el otro en $[0,1]$. Intente aproximar estos ceros dentro de $10^{−6}$\n",
    "con\n",
    "\n",
    "**a.** El método de la secante (use los extremos como las estimaciones iniciales)\n"
   ]
  },
  {
   "cell_type": "code",
   "execution_count": 4,
   "id": "fab44bb8",
   "metadata": {},
   "outputs": [
    {
     "name": "stdout",
     "output_type": "stream",
     "text": [
      "CERO en [-1, 0]\n",
      "(Secante) Raíz ≈ -0.04065929 en 4 iteraciones.\n",
      "(Newton)   Raíz ≈ -0.04065929 en 4 iteraciones.\n"
     ]
    }
   ],
   "source": [
    "import numpy as np\n",
    "\n",
    "# Definición de la función y su derivada\n",
    "def f(x):\n",
    "    return 230*x**4 + 18*x**3 + 9*x**2 - 221*x - 9\n",
    "\n",
    "def df(x):\n",
    "    return 920*x**3 + 54*x**2 + 18*x - 221\n",
    "\n",
    "tol = 1e-6  # Tolerancia\n",
    "\n",
    "# Método de la Secante\n",
    "def secante(f, p0, p1, tol, max_iter=1000):\n",
    "    for i in range(max_iter):\n",
    "        f_p0 = f(p0)\n",
    "        f_p1 = f(p1)\n",
    "        if f_p1 - f_p0 == 0:\n",
    "            raise ZeroDivisionError(\"División por cero en la fórmula de la secante.\")\n",
    "        p2 = p1 - f_p1 * (p1 - p0) / (f_p1 - f_p0)\n",
    "        if abs(p2 - p1) < tol:\n",
    "            return p2, i+1\n",
    "        p0, p1 = p1, p2\n",
    "    raise ValueError(\"El método de la secante no converge en el máximo número de iteraciones.\")\n",
    "\n",
    "# Método de Newton\n",
    "def newton(f, df, p0, tol, max_iter=1000):\n",
    "    for i in range(max_iter):\n",
    "        f_p0 = f(p0)\n",
    "        df_p0 = df(p0)\n",
    "        if df_p0 == 0:\n",
    "            raise ZeroDivisionError(\"Derivada cero. No se puede aplicar Newton-Raphson.\")\n",
    "        p1 = p0 - f_p0/df_p0\n",
    "        if abs(p1 - p0) < tol:\n",
    "            return p1, i+1\n",
    "        p0 = p1\n",
    "    raise ValueError(\"El método de Newton no converge en el máximo número de iteraciones.\")\n",
    "\n",
    "# Aproximación del cero en el intervalo [-1, 0]\n",
    "print(\"CERO en [-1, 0]\")\n",
    "\n",
    "# Secante: usar p0=-1, p1=0\n",
    "p0_sec = -1\n",
    "p1_sec = 0\n",
    "raiz_sec, iter_sec = secante(f, p0_sec, p1_sec, tol)\n",
    "print(f\"(Secante) Raíz ≈ {raiz_sec:.8f} en {iter_sec} iteraciones.\")\n",
    "\n",
    "# Newton: usar p0 = (-1+0)/2 = -0.5\n",
    "p0_newt = -0.5\n",
    "raiz_newt, iter_newt = newton(f, df, p0_newt, tol)\n",
    "print(f\"(Newton)   Raíz ≈ {raiz_newt:.8f} en {iter_newt} iteraciones.\")\n",
    "\n"
   ]
  },
  {
   "cell_type": "markdown",
   "id": "a018591c",
   "metadata": {},
   "source": [
    "**b.** El método de Newton (use el punto medio como estimación inicial)"
   ]
  },
  {
   "cell_type": "code",
   "execution_count": 6,
   "id": "7323af97",
   "metadata": {},
   "outputs": [
    {
     "name": "stdout",
     "output_type": "stream",
     "text": [
      "\n",
      "CERO en [0, 1]\n",
      "(Secante) Raíz ≈ -0.04065929 en 11 iteraciones.\n",
      "(Newton)   Raíz ≈ -0.04065929 en 6 iteraciones.\n"
     ]
    }
   ],
   "source": [
    "# Aproximación del cero en el intervalo [0, 1]\n",
    "print(\"\\nCERO en [0, 1]\")\n",
    "#Secante: usar p0=0, p1=1\n",
    "p0_sec = 0\n",
    "p1_sec = 1\n",
    "raiz_sec2, iter_sec2 = secante(f, p0_sec, p1_sec, tol)\n",
    "print(f\"(Secante) Raíz ≈ {raiz_sec2:.8f} en {iter_sec2} iteraciones.\")\n",
    "#Newton: usar p0 = (0+1)/2 = 0.5\n",
    "p0_newt = 0.5\n",
    "raiz_newt2, iter_newt2 = newton(f, df, p0_newt, tol)\n",
    "print(f\"(Newton)   Raíz ≈ {raiz_newt2:.8f} en {iter_newt2} iteraciones.\")\n"
   ]
  }
 ],
 "metadata": {
  "kernelspec": {
   "display_name": "Python 3",
   "language": "python",
   "name": "python3"
  },
  "language_info": {
   "codemirror_mode": {
    "name": "ipython",
    "version": 3
   },
   "file_extension": ".py",
   "mimetype": "text/x-python",
   "name": "python",
   "nbconvert_exporter": "python",
   "pygments_lexer": "ipython3",
   "version": "3.13.3"
  }
 },
 "nbformat": 4,
 "nbformat_minor": 5
}
