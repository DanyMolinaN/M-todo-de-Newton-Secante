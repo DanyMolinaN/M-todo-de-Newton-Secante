{
 "cells": [
  {
   "cell_type": "markdown",
   "id": "c948f187",
   "metadata": {},
   "source": [
    "<div style=\"text-align: center;\">\n",
    "\n",
    "## Escuela Politécnica Nacional\n",
    "\n",
    "</div>\n",
    "\n",
    "**Nombre:**  Dany Molina\n",
    "\n",
    "**Fecha:**  18/05/2025\n",
    "\n",
    "<div style=\"text-align: center;\">\n",
    "\n",
    "## Tarea 5 - Método de Newton y la Secante\n",
    "\n",
    "### Ejercicio 3\n",
    "</div>"
   ]
  },
  {
   "cell_type": "markdown",
   "id": "344a71d4",
   "metadata": {},
   "source": [
    "Use los 2 métodos en esta sección para encontrar las soluciones dentro de $10^{−5}$ para los siguientes problemas.\n",
    "\n",
    "**a.** $3𝑥 − e^𝑥 = 0 \\quad para \\quad 1 ≤ 𝑥 ≤ 2$"
   ]
  },
  {
   "cell_type": "code",
   "execution_count": null,
   "id": "7f5eca2d",
   "metadata": {},
   "outputs": [
    {
     "name": "stdout",
     "output_type": "stream",
     "text": [
      "(a) Newton-Raphson: x ≈ 1.5121346\n",
      "(a) Secante:        x ≈ 1.5121346\n"
     ]
    }
   ],
   "source": [
    "import numpy as np\n",
    "\n",
    "# Método de Newton\n",
    "def newton(f, df, x0, tol=1e-5, max_iter=100):\n",
    "    for _ in range(max_iter):\n",
    "        fx = f(x0)\n",
    "        dfx = df(x0)\n",
    "        if dfx == 0:\n",
    "            raise ZeroDivisionError(\"Derivada cero. Newton no puede continuar.\")\n",
    "        x1 = x0 - fx / dfx\n",
    "        if abs(x1 - x0) < tol:\n",
    "            return x1\n",
    "        x0 = x1\n",
    "    raise ValueError(\"No converge\")\n",
    "\n",
    "# Método de la Secante\n",
    "def secante(f, x0, x1, tol=1e-5, max_iter=100):\n",
    "    for _ in range(max_iter):\n",
    "        f0 = f(x0)\n",
    "        f1 = f(x1)\n",
    "        if f1 - f0 == 0:\n",
    "            raise ZeroDivisionError(\"División por cero en la secante.\")\n",
    "        x2 = x1 - f1 * (x1 - x0) / (f1 - f0)\n",
    "        if abs(x2 - x1) < tol:\n",
    "            return x2\n",
    "        x0, x1 = x1, x2\n",
    "    raise ValueError(\"No converge\")\n",
    "\n",
    "\n",
    "def f_a(x): return 3*x - np.exp(x)\n",
    "def df_a(x): return 3 - np.exp(x)\n",
    "\n",
    "# Newton\n",
    "raiz_a_newton = newton(f_a, df_a, x0=1.5)\n",
    "\n",
    "# Secante\n",
    "raiz_a_secante = secante(f_a, 1, 2)\n",
    "\n",
    "print(f\"(a) Newton-Raphson: x ≈ {raiz_a_newton:.7f}\")\n",
    "print(f\"(a) Secante:        x ≈ {raiz_a_secante:.7f}\")\n",
    "\n"
   ]
  },
  {
   "cell_type": "markdown",
   "id": "f02b5f36",
   "metadata": {},
   "source": [
    "**b.** $2𝑥 + 3 cos 𝑥 − e^𝑥 = 0 \\quad para \\quad 1 ≤ 𝑥 ≤ 2$"
   ]
  },
  {
   "cell_type": "code",
   "execution_count": 3,
   "id": "0cf30814",
   "metadata": {},
   "outputs": [
    {
     "name": "stdout",
     "output_type": "stream",
     "text": [
      "(b) Newton-Raphson: x ≈ 1.2397147\n",
      "(b) Secante:        x ≈ 1.2397147\n"
     ]
    }
   ],
   "source": [
    "def f_b(x): return 2*x + 3*np.cos(x) - np.exp(x)\n",
    "def df_b(x): return 2 - 3*np.sin(x) - np.exp(x)\n",
    "\n",
    "raiz_b_newton = newton(f_b, df_b, x0=1.5)\n",
    "raiz_b_secante = secante(f_b, 1, 2)\n",
    "\n",
    "print(f\"(b) Newton-Raphson: x ≈ {raiz_b_newton:.7f}\")\n",
    "print(f\"(b) Secante:        x ≈ {raiz_b_secante:.7f}\")"
   ]
  }
 ],
 "metadata": {
  "kernelspec": {
   "display_name": "Python 3",
   "language": "python",
   "name": "python3"
  },
  "language_info": {
   "codemirror_mode": {
    "name": "ipython",
    "version": 3
   },
   "file_extension": ".py",
   "mimetype": "text/x-python",
   "name": "python",
   "nbconvert_exporter": "python",
   "pygments_lexer": "ipython3",
   "version": "3.13.3"
  }
 },
 "nbformat": 4,
 "nbformat_minor": 5
}
