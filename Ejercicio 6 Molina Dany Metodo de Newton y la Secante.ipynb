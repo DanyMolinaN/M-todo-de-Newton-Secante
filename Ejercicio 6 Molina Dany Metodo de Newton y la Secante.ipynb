{
 "cells": [
  {
   "cell_type": "markdown",
   "id": "2a74d594",
   "metadata": {},
   "source": [
    "<div style=\"text-align: center;\">\n",
    "\n",
    "## Escuela Politécnica Nacional\n",
    "\n",
    "</div>\n",
    "\n",
    "**Nombre:**  Dany Molina Israel\n",
    "\n",
    "**Fecha:**  18/05/2025\n",
    "\n",
    "<div style=\"text-align: center;\">\n",
    "\n",
    "## Tarea 5 - Método de Newton y la Secante\n",
    "\n",
    "### Ejercicio 6\n",
    "</div>"
   ]
  },
  {
   "cell_type": "markdown",
   "id": "2802c339",
   "metadata": {},
   "source": [
    "La función descrita por $𝑓(𝑥) = ln(𝑥^2 + 1) − e^{0.4𝑥} cos(𝜋𝑥)$  tiene un número infinito de ceros.\n",
    "\n",
    "**a.** Determine, dentro de $10^{−6}$, el único cero negativo.\n",
    "\n",
    "#### **Gráfica de los ceros de la funcion**\n"
   ]
  },
  {
   "cell_type": "code",
   "execution_count": 4,
   "id": "f8ab7a22",
   "metadata": {},
   "outputs": [
    {
     "data": {
      "image/png": "[encoded data removed]",
      "text/plain": [
       "<Figure size 640x480 with 1 Axes>"
      ]
     },
     "metadata": {},
     "output_type": "display_data"
    }
   ],
   "source": [
    "import numpy as np\n",
    "import matplotlib.pyplot as plt\n",
    "\n",
    "def f(x):\n",
    "    return np.log(x**2 + 1) - np.exp(0.4*x) * np.cos(np.pi * x)\n",
    "\n",
    "# Gráfica de f(x) en un rango\n",
    "x_vals = np.linspace(-5, 30, 1000)\n",
    "y_vals = f(x_vals)\n",
    "\n",
    "plt.plot(x_vals, y_vals)\n",
    "plt.axhline(0, color='black', linewidth=0.5)\n",
    "plt.title('Gráfica de f(x)')\n",
    "plt.xlabel('x')\n",
    "plt.ylabel('f(x)')\n",
    "plt.grid(True)\n",
    "plt.show()\n"
   ]
  },
  {
   "cell_type": "code",
   "execution_count": 5,
   "id": "b393de8d",
   "metadata": {},
   "outputs": [
    {
     "name": "stdout",
     "output_type": "stream",
     "text": [
      "Cero negativo: -0.43414304728574216\n"
     ]
    }
   ],
   "source": [
    "def secante(f, x0, x1, tol=1e-6, max_iter=100):\n",
    "    for _ in range(max_iter):\n",
    "        if abs(f(x1) - f(x0)) < 1e-12:\n",
    "            return None  # Para evitar división por cero\n",
    "        x2 = x1 - f(x1)*(x1 - x0)/(f(x1) - f(x0))\n",
    "        if abs(x2 - x1) < tol:\n",
    "            return x2\n",
    "        x0, x1 = x1, x2\n",
    "    return None\n",
    "\n",
    "raiz_negativa = secante(f, -1.5, 0)\n",
    "print(\"Cero negativo:\", raiz_negativa)\n"
   ]
  },
  {
   "cell_type": "markdown",
   "id": "de06a67e",
   "metadata": {},
   "source": [
    "**b.** Determine, dentro de $10^{−6}$, los cuatro ceros positivos más pequeños."
   ]
  },
  {
   "cell_type": "code",
   "execution_count": 7,
   "id": "36c4e9ce",
   "metadata": {},
   "outputs": [
    {
     "name": "stdout",
     "output_type": "stream",
     "text": [
      "Cero positivo #1: 0.4506567478885528\n",
      "Cero positivo #2: 0.45065674789001126\n",
      "Cero positivo #3: 1.7447380534186228\n",
      "Cero positivo #4: -0.4341430472606062\n"
     ]
    }
   ],
   "source": [
    "ceros_positivos = []\n",
    "intervalos = [(0.5,1.5), (1.5,2.5), (2.5,3.5), (3.5,4.5)]\n",
    "\n",
    "for a, b in intervalos:\n",
    "    cero = secante(f, a, b)\n",
    "    ceros_positivos.append(cero)\n",
    "\n",
    "for i, r in enumerate(ceros_positivos, 1):\n",
    "    print(f\"Cero positivo #{i}: {r}\")\n"
   ]
  },
  {
   "cell_type": "markdown",
   "id": "64e10dbf",
   "metadata": {},
   "source": []
  },
  {
   "cell_type": "markdown",
   "id": "45c4f31d",
   "metadata": {},
   "source": [
    "**c.** Determine una aproximación inicial razonable para encontrar el enésimo cero positivo más pequeño de $𝑓$. [Sugerencia: Dibuje una gráfica aproximada de 𝑓.]\n"
   ]
  },
  {
   "cell_type": "markdown",
   "id": "1421ec96",
   "metadata": {},
   "source": [
    "Analizando la gráfica, observamos que los ceros positivos están aproximadamente espaciados por cerca de 1 unidad, debido a la periodicidad de $cos(𝜋𝑥)$.\n",
    "\n",
    "Entonces deducimos lo siguiente.\n",
    "$$𝑥_𝑛 ≈ \\quad 𝑛 para \\quad n ∈ 𝑁 $$\n",
    "\n",
    "Por lo que la aproxmiación inicial razonable para el enésimo cero ppositivo mas pequeño es: \n",
    "$$𝑥_𝑛 ≈ 𝑛$$"
   ]
  },
  {
   "cell_type": "markdown",
   "id": "74e4289f",
   "metadata": {},
   "source": [
    "**d.** Use la parte **c)** para determinar, dentro de $10^−6$, el vigesimoquinto cero positivo más pequeño de $𝑓$."
   ]
  },
  {
   "cell_type": "code",
   "execution_count": 9,
   "id": "35e6aaa9",
   "metadata": {},
   "outputs": [
    {
     "name": "stdout",
     "output_type": "stream",
     "text": [
      "Cero positivo #25: -55.60501722333146\n"
     ]
    }
   ],
   "source": [
    "cero_25 = secante(f, 24.5, 25.5)\n",
    "print(\"Cero positivo #25:\", cero_25)\n"
   ]
  }
 ],
 "metadata": {
  "kernelspec": {
   "display_name": "Python 3",
   "language": "python",
   "name": "python3"
  },
  "language_info": {
   "codemirror_mode": {
    "name": "ipython",
    "version": 3
   },
   "file_extension": ".py",
   "mimetype": "text/x-python",
   "name": "python",
   "nbconvert_exporter": "python",
   "pygments_lexer": "ipython3",
   "version": "3.13.3"
  }
 },
 "nbformat": 4,
 "nbformat_minor": 5
}
