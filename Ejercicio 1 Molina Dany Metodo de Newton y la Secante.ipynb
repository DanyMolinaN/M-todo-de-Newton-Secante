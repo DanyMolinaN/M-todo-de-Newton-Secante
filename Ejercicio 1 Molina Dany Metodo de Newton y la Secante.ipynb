{
 "cells": [
  {
   "cell_type": "markdown",
   "id": "ed72715a",
   "metadata": {},
   "source": [
    "<div style=\"text-align: center;\">\n",
    "\n",
    "## Escuela Politécnica Nacional\n",
    "\n",
    "</div>\n",
    "\n",
    "**Nombre:**  Dany Molina\n",
    "\n",
    "**Fecha:**  18/05/2025\n",
    "\n",
    "<div style=\"text-align: center;\">\n",
    "\n",
    "## Tarea 5 - Método de Newton y la Secante\n",
    "\n",
    "### Ejercicio 1\n",
    "\n",
    "</div>"
   ]
  },
  {
   "cell_type": "markdown",
   "id": "44887250",
   "metadata": {},
   "source": [
    "**1.** Sea $𝑓(𝑥) = −𝑥^3 − cos 𝑥 \\quad y \\quad 𝑝_0 = −1$. Use el método de Newton y de la Secante para encontrar $𝑝_2$. ¿Se podría\n",
    "usar $𝑝_0 = 0$?"
   ]
  },
  {
   "cell_type": "markdown",
   "id": "0e33ddb6",
   "metadata": {},
   "source": [
    "Sea $$ f(x) = -x^3 - cos x $$\n",
    "con valor inicial $\\quad p_0 = -1 $\n",
    "\n",
    "#### **Método de Newton**\n",
    "Para aplicar Newton necesitamos $𝑓'(𝑥)$:\n",
    "\n",
    "$$𝑓'(𝑥)=−3𝑥^2+sin (𝑥)$$\n",
    "\n",
    "##### Implementacion en Código\n"
   ]
  },
  {
   "cell_type": "code",
   "execution_count": null,
   "id": "1a329d53",
   "metadata": {},
   "outputs": [
    {
     "name": "stdout",
     "output_type": "stream",
     "text": [
      "Newton: p1 = -0.880333, p2 = -0.865684\n"
     ]
    }
   ],
   "source": [
    "import numpy as np\n",
    "\n",
    "def f(x):\n",
    "    return -x**3 - np.cos(x)\n",
    "\n",
    "def df(x):\n",
    "    return -3*x**2 + np.sin(x)\n",
    "\n",
    "# Newton desde p0 = -1\n",
    "p0 = -1\n",
    "p1 = p0 - f(p0)/df(p0)\n",
    "p2 = p1 - f(p1)/df(p1)\n",
    "\n",
    "print(f\"Newton: p1 = {p1:.6f}, p2 = {p2:.6f}\")"
   ]
  },
  {
   "cell_type": "markdown",
   "id": "d897e986",
   "metadata": {},
   "source": [
    "#### **Método de la Secante** "
   ]
  },
  {
   "cell_type": "code",
   "execution_count": 3,
   "id": "259e457d",
   "metadata": {},
   "outputs": [
    {
     "name": "stdout",
     "output_type": "stream",
     "text": [
      "Secante: p2 = -0.810400, p3 = -0.892211\n"
     ]
    }
   ],
   "source": [
    "# Secante requiere p0 y p1\n",
    "p0 = -1\n",
    "p1 = -0.5  # Supongo que p1 es -0.5\n",
    "\n",
    "f0 = f(p0)\n",
    "f1 = f(p1)\n",
    "\n",
    "# Iteración 1: p2\n",
    "p2 = p1 - f1 * (p1 - p0) / (f1 - f0)\n",
    "\n",
    "# Iteración 2: p3\n",
    "f2 = f(p2)\n",
    "p3 = p2 - f2 * (p2 - p1) / (f2 - f1)\n",
    "\n",
    "print(f\"Secante: p2 = {p2:.6f}, p3 = {p3:.6f}\")\n"
   ]
  },
  {
   "cell_type": "markdown",
   "id": "ca06dfa7",
   "metadata": {},
   "source": [
    "#### ¿Se puede usar $𝑝_0 = 0$ en Newton?"
   ]
  },
  {
   "cell_type": "code",
   "execution_count": 4,
   "id": "a6afb20f",
   "metadata": {},
   "outputs": [
    {
     "name": "stdout",
     "output_type": "stream",
     "text": [
      "f(0) = -1.0\n",
      "f'(0) = 0.0\n"
     ]
    }
   ],
   "source": [
    "p0 = 0\n",
    "print(\"f(0) =\", f(0))\n",
    "print(\"f'(0) =\", df(0))\n"
   ]
  },
  {
   "cell_type": "markdown",
   "id": "ed77fc3b",
   "metadata": {},
   "source": [
    "Esto implica que no se puede aplicar el ¨**método de Newton** en $P_0=0$ porque se genera una división por cero"
   ]
  }
 ],
 "metadata": {
  "kernelspec": {
   "display_name": "Python 3",
   "language": "python",
   "name": "python3"
  },
  "language_info": {
   "codemirror_mode": {
    "name": "ipython",
    "version": 3
   },
   "file_extension": ".py",
   "mimetype": "text/x-python",
   "name": "python",
   "nbconvert_exporter": "python",
   "pygments_lexer": "ipython3",
   "version": "3.13.3"
  }
 },
 "nbformat": 4,
 "nbformat_minor": 5
}
