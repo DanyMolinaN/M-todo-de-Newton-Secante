{
 "cells": [
  {
   "cell_type": "markdown",
   "id": "cf5c5838",
   "metadata": {},
   "source": [
    "<div style=\"text-align: center;\">\n",
    "\n",
    "## Escuela Politécnica Nacional\n",
    "\n",
    "</div>\n",
    "\n",
    "**Nombre:**  Dany Molina Israel\n",
    "\n",
    "**Fecha:**  18/05/2025\n",
    "\n",
    "<div style=\"text-align: center;\">\n",
    "\n",
    "## Tarea 5 - Método de Newton y la Secante\n",
    "\n",
    "### Ejercicio 5\n",
    "</div>"
   ]
  },
  {
   "cell_type": "markdown",
   "id": "d1727eb3",
   "metadata": {},
   "source": [
    "La función $𝑓(𝑥) = tan 𝜋 𝑥 − 6$ tiene cero en $(\\frac{1}{\\pi}) \\quad arcotangente \\quad 6 ≈ 0.447431543$. Sea $𝑝_0 = 0 \\quad y \\quad 𝑝_1 = 0.48$ y use 10 iteraciones en cada uno de los siguientes métodos para aproximar esta raíz. ¿Cuál método es más\n",
    "eficaz y por qué? \n",
    "\n",
    "**a.** método de bisección\n",
    " "
   ]
  },
  {
   "cell_type": "code",
   "execution_count": 8,
   "id": "054e2683",
   "metadata": {},
   "outputs": [
    {
     "name": "stdout",
     "output_type": "stream",
     "text": [
      "Raíz exacta:     0.447431543\n",
      "Bisección:       0.447656250   Error: 2.2e-04\n"
     ]
    }
   ],
   "source": [
    "import numpy as np\n",
    "\n",
    "# Función\n",
    "def f(x):\n",
    "    return np.tan(np.pi * x) - 6\n",
    "\n",
    "# Derivada para Newton-Raphson\n",
    "def df(x):\n",
    "    return np.pi / (np.cos(np.pi * x) ** 2)\n",
    "\n",
    "# Raíz real\n",
    "raiz_real = (1 / np.pi) * np.arctan(6)\n",
    "\n",
    "def biseccion(f, a, b, iteraciones):\n",
    "    for i in range(iteraciones):\n",
    "        c = (a + b) / 2\n",
    "        if f(a) * f(c) < 0:\n",
    "            b = c\n",
    "        else:\n",
    "            a = c\n",
    "    return c\n",
    "\n",
    "# Valores iniciales\n",
    "p0_bis, p1_bis = 0, 0.48\n",
    "p0_newton = 0.48\n",
    "p0_sec, p1_sec = 0, 0.48\n",
    "\n",
    "raiz_bis = biseccion(f, p0_bis, p1_bis, 10)\n",
    "\n",
    "print(f\"Raíz exacta:     {raiz_real:.9f}\")\n",
    "print(f\"Bisección:       {raiz_bis:.9f}   Error: {abs(raiz_bis - raiz_real):.1e}\")"
   ]
  },
  {
   "cell_type": "markdown",
   "id": "c018f363",
   "metadata": {},
   "source": [
    "**b.** método de Newton\n"
   ]
  },
  {
   "cell_type": "code",
   "execution_count": 11,
   "id": "926ccbca",
   "metadata": {},
   "outputs": [
    {
     "name": "stdout",
     "output_type": "stream",
     "text": [
      "Raíz exacta:     0.447431543\n",
      "Newton:  0.447431543   Error: 5.6e-17\n"
     ]
    }
   ],
   "source": [
    "def newton(f, df, p0, iteraciones):\n",
    "    for i in range(iteraciones):\n",
    "        p0 = p0 - f(p0)/df(p0)\n",
    "    return p0\n",
    "\n",
    "raiz_newton = newton(f, df, p0_newton, 10)\n",
    "\n",
    "print(f\"Raíz exacta:     {raiz_real:.9f}\")\n",
    "print(f\"Newton:  {raiz_newton:.9f}   Error: {abs(raiz_newton - raiz_real):.1e}\")"
   ]
  },
  {
   "cell_type": "markdown",
   "id": "22f6c6d5",
   "metadata": {},
   "source": [
    "**c.** método de la secante"
   ]
  },
  {
   "cell_type": "code",
   "execution_count": 12,
   "id": "cc036f0f",
   "metadata": {},
   "outputs": [
    {
     "name": "stdout",
     "output_type": "stream",
     "text": [
      "Raíz exacta:     0.447431543\n",
      "Secante:         -2989.940037531   Error: 3.0e+03\n"
     ]
    }
   ],
   "source": [
    "def secante(f, p0, p1, iteraciones):\n",
    "    for i in range(iteraciones):\n",
    "        f0 = f(p0)\n",
    "        f1 = f(p1)\n",
    "        if f1 - f0 == 0:\n",
    "            return None  # División por cero\n",
    "        p = p1 - f1 * (p1 - p0) / (f1 - f0)\n",
    "        p0, p1 = p1, p\n",
    "    return p\n",
    "\n",
    "print(f\"Raíz exacta:     {raiz_real:.9f}\")\n",
    "raiz_secante = secante(f, p0_sec, p1_sec, 10)\n",
    "print(f\"Secante:         {raiz_secante:.9f}   Error: {abs(raiz_secante - raiz_real):.1e}\")"
   ]
  },
  {
   "cell_type": "markdown",
   "id": "a57ad17c",
   "metadata": {},
   "source": [
    "#### **Conclusión**\n",
    "\n",
    "El **método de Newton** es más eficaz debido a que converge en muy pocas iteraciones (cuadráticamente). Además que requiere derivada, pero si se tiene, es ideal.\n",
    "\n",
    "La **Secante** es casi tan bueno como Newton ya que no necesita derivada. Su convergencia superlineal es más lenta que Newton, pero más rápida que bisección.\n",
    "\n",
    "La **Bisección** siempre converge si $𝑓(𝑎)𝑓(𝑏)<0$ , pero muy lento debido a su convergencia lineal. Es útil cuando no se puede derivar o no se tiene una buena estimación inicial."
   ]
  }
 ],
 "metadata": {
  "kernelspec": {
   "display_name": "Python 3",
   "language": "python",
   "name": "python3"
  },
  "language_info": {
   "codemirror_mode": {
    "name": "ipython",
    "version": 3
   },
   "file_extension": ".py",
   "mimetype": "text/x-python",
   "name": "python",
   "nbconvert_exporter": "python",
   "pygments_lexer": "ipython3",
   "version": "3.13.3"
  }
 },
 "nbformat": 4,
 "nbformat_minor": 5
}
