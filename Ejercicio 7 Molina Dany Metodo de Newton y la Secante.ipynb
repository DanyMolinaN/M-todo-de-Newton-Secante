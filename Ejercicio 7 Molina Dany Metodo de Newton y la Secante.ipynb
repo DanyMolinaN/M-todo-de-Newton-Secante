{
 "cells": [
  {
   "cell_type": "markdown",
   "id": "a7e0d59c",
   "metadata": {},
   "source": [
    "<div style=\"text-align: center;\">\n",
    "\n",
    "## Escuela Politécnica Nacional\n",
    "\n",
    "</div>\n",
    "\n",
    "**Nombre:**  Dany Molina Isreal\n",
    "\n",
    "**Fecha:**  18/05/2025\n",
    "\n",
    "<div style=\"text-align: center;\">\n",
    "\n",
    "## Tarea 5 - Método de Newton y la Secante\n",
    "\n",
    "### Ejercicio 7\n",
    "</div>"
   ]
  },
  {
   "cell_type": "markdown",
   "id": "41db3c2f",
   "metadata": {},
   "source": [
    "La función $𝑓(𝑥) = 𝑥^{1/3} \\quad$ tiene raíz en $𝑥 = 0$.Usando el punto de inicio de $𝑥 = 1 \\quad y \\quad 𝑝_0 = 5, 𝑝_1 = 0.5 \\quad $ para el método de secante, compare los resultados de los métodos de la secante y de Newton."
   ]
  },
  {
   "cell_type": "markdown",
   "id": "32366907",
   "metadata": {},
   "source": [
    "Vamos a comparar los métodos de Newton y Secante para encontrar la raíz de la función:\n",
    "\n",
    "$$𝑓(𝑥)=𝑥^{1/3}$$\n",
    " \n",
    "con raíz en $𝑥=0$, usando los siguientes puntos iniciales:\n",
    "\n",
    "Para **Newton**, $𝑥_0=1$\n",
    "\n",
    "​\n",
    "Para **Secante**, $𝑝_0=5$,$p_1=0.5$\n",
    "\n",
    "\n",
    "$$f(x)=x^{1/3} ⇒ f'(x)= \\frac{1}{3} x^{−2/3}$$\n"
   ]
  },
  {
   "cell_type": "code",
   "execution_count": 7,
   "id": "b3a7e49d",
   "metadata": {},
   "outputs": [
    {
     "name": "stdout",
     "output_type": "stream",
     "text": [
      "Raíz (Newton-Raphson): nan\n",
      "Raíz (Secante):        0.8203606202\n",
      "Raíz exacta:           0.0000000000\n"
     ]
    },
    {
     "name": "stderr",
     "output_type": "stream",
     "text": [
      "C:\\Users\\DANY M\\AppData\\Local\\Temp\\ipykernel_9516\\2560083454.py:10: RuntimeWarning: invalid value encountered in scalar power\n",
      "  return (1/3) *x**(-2/3)\n"
     ]
    }
   ],
   "source": [
    "import numpy as np\n",
    "\n",
    "# Definimos la función y su derivada\n",
    "def f(x):\n",
    "    return np.cbrt(x)  # x^(1/3)\n",
    "\n",
    "def df(x):\n",
    "    if x == 0:\n",
    "        return np.inf  # Evitar división por 0\n",
    "    return (1/3) *x**(-2/3)\n",
    "\n",
    "def newton(f, df, x0, tol=1e-8, max_iter=20):\n",
    "    for i in range(max_iter):\n",
    "        if df(x0) == 0 or np.isinf(df(x0)):\n",
    "            print(f\"Derivada infinita o cero en iteración {i}.\")\n",
    "            return x0\n",
    "        x1 = x0 - (f(x0)/df(x0))\n",
    "        if abs(x1 - x0) < tol:\n",
    "            break\n",
    "        x0 = x1\n",
    "    return x0\n",
    "\n",
    "def secante(f, p0, p1, tol=1e-8, max_iter=20):\n",
    "    for i in range(max_iter):\n",
    "        f0 = f(p0)\n",
    "        f1 = f(p1)\n",
    "        if f1 - f0 == 0:\n",
    "            print(f\"Dif. cero en iteración {i}\")\n",
    "            return p1\n",
    "        p = p1 - f1 * (p1 - p0) / (f1 - f0)\n",
    "        if abs(p - p1) < tol:\n",
    "            break\n",
    "        p0, p1 = p1, p\n",
    "    return p\n",
    "# Parámetros iniciales\n",
    "x0_newton = 1\n",
    "p0_secante = 5\n",
    "p1_secante = 0.5\n",
    "\n",
    "# Calcular las aproximaciones\n",
    "raiz_newton = newton(f, df, x0_newton)\n",
    "raiz_secante = secante(f, p0_secante, p1_secante)\n",
    "\n",
    "# Mostrar resultados\n",
    "print(f\"Raíz (Newton-Raphson): {raiz_newton:.10f}\")\n",
    "print(f\"Raíz (Secante):        {raiz_secante:.10f}\")\n",
    "print(f\"Raíz exacta:           0.0000000000\")\n",
    "\n"
   ]
  },
  {
   "cell_type": "markdown",
   "id": "b5e39d6f",
   "metadata": {},
   "source": [
    "#### **CONCLUSIÓN**\n",
    "\n",
    "El método de Newton no es adecuado cuando la derivada se vuelve infinita o muy inestable, como en este caso.\n",
    "\n",
    "\n",
    "El método de la secante no requiere la derivada, y ofrece una mejor estabilidad numérica para funciones con derivadas problemáticas cerca de la raíz.\n"
   ]
  }
 ],
 "metadata": {
  "kernelspec": {
   "display_name": "Python 3",
   "language": "python",
   "name": "python3"
  },
  "language_info": {
   "codemirror_mode": {
    "name": "ipython",
    "version": 3
   },
   "file_extension": ".py",
   "mimetype": "text/x-python",
   "name": "python",
   "nbconvert_exporter": "python",
   "pygments_lexer": "ipython3",
   "version": "3.13.3"
  }
 },
 "nbformat": 4,
 "nbformat_minor": 5
}
